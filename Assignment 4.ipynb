{
 "cells": [
  {
   "cell_type": "markdown",
   "id": "564683ab",
   "metadata": {},
   "source": [
    "# Assignment 4\n",
    " By Jaspreet Kaur Saini\n",
    " Student #:8876747 "
   ]
  },
  {
   "cell_type": "code",
   "execution_count": 1,
   "id": "94d90047",
   "metadata": {},
   "outputs": [],
   "source": [
    "# pip install pulp"
   ]
  },
  {
   "cell_type": "markdown",
   "id": "2ed52ec1",
   "metadata": {},
   "source": [
    "# Question 1"
   ]
  },
  {
   "cell_type": "code",
   "execution_count": 11,
   "id": "f4ecaf6e",
   "metadata": {},
   "outputs": [
    {
     "name": "stdout",
     "output_type": "stream",
     "text": [
      "Status of the optimization problem: Optimal\n",
      "Number of hours allocated to Senior Designer-Lisa: 48.0\n",
      "Number of hours allocated to Senior Designer-David: 72.0\n",
      "Number of hours allocated to Junior Designer-Sarah: 30.0\n",
      "Total Cost: 3780.0\n"
     ]
    }
   ],
   "source": [
    "#Question 1.1 and 1.2\n",
    "import pulp\n",
    "\n",
    "# Minimize cost function \n",
    "prob_lin = pulp.LpProblem(\"Minimize_Cost\", pulp.LpMinimize)\n",
    "\n",
    "# Variables to be used\n",
    "lisa_hrs  = pulp.LpVariable('Hours_Lisa', lowBound=0) \n",
    "david_hrs = pulp.LpVariable('Hours_David', lowBound=0)\n",
    "sarah_hrs = pulp.LpVariable('Hours_Sarah', lowBound=0)\n",
    "\n",
    "# Total project hours\n",
    "total_hrs = 150\n",
    "\n",
    "# Add the objective function\n",
    "prob_lin += 30 * lisa_hrs + 25 * david_hrs + 18 * sarah_hrs, \"Total Cost\"\n",
    "\n",
    "# Add constraints\n",
    "prob_lin += lisa_hrs + david_hrs + sarah_hrs == total_hrs, \"Total Project Hours\"\n",
    "prob_lin += lisa_hrs >= 0.4 * (lisa_hrs + david_hrs), \"Lisa's Min Hours\"\n",
    "prob_lin += lisa_hrs <= 50 , \"Lisa's Max Hours\"\n",
    "prob_lin += sarah_hrs >= 0.15 * total_hrs, \"Sarah's Min Hours\"\n",
    "prob_lin += sarah_hrs <= 0.25 * (lisa_hrs + david_hrs), \"Sarah's Max Hours\"\n",
    "\n",
    "\n",
    "# Solve the problem\n",
    "prob_lin.solve()\n",
    "\n",
    "# Printing the optimisation results\n",
    "print(\"Status of the optimization problem:\", pulp.LpStatus[prob_lin.status])\n",
    "print(\"Number of hours allocated to Senior Designer-Lisa:\", pulp.value(lisa_hrs))\n",
    "print(\"Number of hours allocated to Senior Designer-David:\", pulp.value(david_hrs))\n",
    "print(\"Number of hours allocated to Junior Designer-Sarah:\", pulp.value(sarah_hrs))\n",
    "print(\"Total Cost:\", pulp.value(prob_lin.objective))\n"
   ]
  },
  {
   "cell_type": "code",
   "execution_count": 10,
   "id": "3168f6f1",
   "metadata": {},
   "outputs": [
    {
     "name": "stdout",
     "output_type": "stream",
     "text": [
      "Status of the optimization problem: Optimal\n",
      "Number of hours allocated to Senior Designer-Lisa: 48.0\n",
      "Number of hours allocated to Senior Designer-David: 72.0\n",
      "Number of hours allocated to Junior Designer-Sarah: 30.0\n",
      "Total Cost: 3780.0\n"
     ]
    }
   ],
   "source": [
    "# Question 1.3. Lisa can work more than 50 hours. \n",
    "import pulp\n",
    "\n",
    "# Minimize cost function \n",
    "prob_lin = pulp.LpProblem(\"Minimize_Cost\", pulp.LpMinimize)\n",
    "\n",
    "# Variables to be used\n",
    "lisa_hrs  = pulp.LpVariable('Hours_Lisa', lowBound=0)  \n",
    "david_hrs = pulp.LpVariable('Hours_David', lowBound=0)\n",
    "sarah_hrs = pulp.LpVariable('Hours_Sarah', lowBound=0)\n",
    "\n",
    "# Total project hours\n",
    "total_hrs = 150\n",
    "\n",
    "# Add the objective function\n",
    "prob_lin += 30 * lisa_hrs + 25 * david_hrs + 18 * sarah_hrs, \"Total Cost\"\n",
    "\n",
    "# Add constraints\n",
    "prob_lin += lisa_hrs + david_hrs + sarah_hrs == total_hrs, \"Total Project Hours\"\n",
    "prob_lin += lisa_hrs >= 0.4 * (lisa_hrs + david_hrs), \"Lisa's Min Hours\"\n",
    "# prob_lin += lisa_hrs <= 50 , \"Lisa's Max Hours >= 50\" # contraint change since Lisa can work more than 50 hours. \n",
    "prob_lin += sarah_hrs >= 0.15 * total_hrs, \"Sarah's Min Hours\"\n",
    "prob_lin += sarah_hrs <= 0.25 * (lisa_hrs + david_hrs), \"Sarah's Max Hours\"\n",
    "\n",
    "\n",
    "# Solve the problem\n",
    "prob_lin.solve()\n",
    "\n",
    "# Printing the optimisation results\n",
    "print(\"Status of the optimization problem:\", pulp.LpStatus[prob_lin.status])\n",
    "print(\"Number of hours allocated to Senior Designer-Lisa:\", pulp.value(lisa_hrs))\n",
    "print(\"Number of hours allocated to Senior Designer-David:\", pulp.value(david_hrs))\n",
    "print(\"Number of hours allocated to Junior Designer-Sarah:\", pulp.value(sarah_hrs))\n",
    "print(\"Total Cost:\", pulp.value(prob_lin.objective))\n",
    "\n"
   ]
  },
  {
   "cell_type": "code",
   "execution_count": 8,
   "id": "485886fa",
   "metadata": {},
   "outputs": [
    {
     "name": "stdout",
     "output_type": "stream",
     "text": [
      "Status of the optimization problem: Optimal\n",
      "Number of hours allocated to Senior Designer-Lisa: 48.0\n",
      "Number of hours allocated to Senior Designer-David: 72.0\n",
      "Number of hours allocated to Junior Designer-Sarah: 30.0\n",
      "Total Cost: 3780.0\n"
     ]
    }
   ],
   "source": [
    "# question 1.4 Sarah not required to work a min no. of hours\n",
    "import pulp\n",
    "\n",
    "# Minimize cost function \n",
    "prob_lin = pulp.LpProblem(\"Minimize_Cost\", pulp.LpMinimize)\n",
    "\n",
    "# Variables to be used\n",
    "lisa_hrs  = pulp.LpVariable('Hours_Lisa', lowBound=0) \n",
    "david_hrs = pulp.LpVariable('Hours_David', lowBound=0)\n",
    "sarah_hrs = pulp.LpVariable('Hours_Sarah', lowBound=0)\n",
    "\n",
    "# Total project hours\n",
    "total_hrs = 150\n",
    "\n",
    "# Add the objective function\n",
    "prob_lin += 30 * lisa_hrs + 25 * david_hrs + 18 * sarah_hrs, \"Total Cost\"\n",
    "\n",
    "# Add constraints\n",
    "prob_lin += lisa_hrs + david_hrs + sarah_hrs == total_hrs, \"Total Project Hours\"\n",
    "prob_lin += lisa_hrs >= 0.4 * (lisa_hrs + david_hrs), \"Lisa's Min Hours\"\n",
    "prob_lin += lisa_hrs <= 50 , \"Lisa's Max Hours\"\n",
    "# prob_lin += sarah_hrs >= 0.15 * total_hrs, \"Sarah's Min Hours\"\n",
    "prob_lin += sarah_hrs <= 0.25 * (lisa_hrs + david_hrs), \"Sarah's Max Hours\"\n",
    "prob_lin += david_hrs >= 0.6 * (lisa_hrs + david_hrs)\n",
    "\n",
    "# Solve the problem\n",
    "prob_lin.solve()\n",
    "\n",
    "# Printing the optimisation results\n",
    "print(\"Status of the optimization problem:\", pulp.LpStatus[prob_lin.status])\n",
    "print(\"Number of hours allocated to Senior Designer-Lisa:\", pulp.value(lisa_hrs))\n",
    "print(\"Number of hours allocated to Senior Designer-David:\", pulp.value(david_hrs))\n",
    "print(\"Number of hours allocated to Junior Designer-Sarah:\", pulp.value(sarah_hrs))\n",
    "print(\"Total Cost:\", pulp.value(prob_lin.objective))\n"
   ]
  },
  {
   "cell_type": "markdown",
   "id": "265892f9",
   "metadata": {},
   "source": [
    "# Question 2"
   ]
  },
  {
   "cell_type": "code",
   "execution_count": 9,
   "id": "7533914d",
   "metadata": {},
   "outputs": [
    {
     "name": "stdout",
     "output_type": "stream",
     "text": [
      "Optimal number of gloves at Dayton production plant is 3750\n",
      "Optimal number of gloves at Hamilton production plant is 4249\n",
      "Minimum total cost of production at 2 plants: $ 27875.0\n"
     ]
    }
   ],
   "source": [
    "from scipy.optimize import minimize\n",
    "\n",
    "# cost fn for the plants- Dayton & Hamilton\n",
    "def Dayton_cost_fn(x):\n",
    "    return x**2 - x + 5\n",
    "\n",
    "def Hamilton_cost_fn(y):\n",
    "    return y**2 - 2*y + 3\n",
    "\n",
    "# Defining the total cost fn\n",
    "def total_cost_fn(var):\n",
    "    x, y = var\n",
    "    return Dayton_cost_fn(x) + Hamilton_cost_fn(y)\n",
    "\n",
    "# constraint that the total production must be 8 (thousands of units)\n",
    "prod_constraints = ({'type': 'eq', 'fun': lambda var: sum(var) - 8})\n",
    "\n",
    "# Defining bounds for x and y (0 to 8, since the total prodn is 8)\n",
    "bounds1 = ((0, 8), (0, 8))\n",
    "\n",
    "# Initializing x and y\n",
    "ini_guess = [4, 4]\n",
    "\n",
    "# optimization the problem\n",
    "result_min = minimize(total_cost_fn, ini_guess, method='SLSQP', bounds=bounds1, constraints=prod_constraints)\n",
    "\n",
    "# Extract the optimal production volumes\n",
    "optimal_x, optimal_y = result_min.x\n",
    "\n",
    "# results for optimal production volumes and the minimum cost\n",
    "print(f\"Optimal number of gloves at Dayton production plant is {int(optimal_x*1000)}\")\n",
    "print(f\"Optimal number of gloves at Hamilton production plant is {int(optimal_y*1000)}\")\n",
    "print(f\"Minimum total cost of production at 2 plants: $ {total_cost_fn(result_min.x)*1000}\")\n"
   ]
  },
  {
   "cell_type": "markdown",
   "id": "fedf6870",
   "metadata": {},
   "source": [
    "# Question 3"
   ]
  },
  {
   "cell_type": "code",
   "execution_count": 6,
   "id": "35742db4",
   "metadata": {},
   "outputs": [
    {
     "name": "stdout",
     "output_type": "stream",
     "text": [
      "Optimal solution:\n",
      "Websites selected for advert (1 indicates selected): [0.0, 0.0, 0.0, 0.0, 1.0, 0.0, 0.0, 0.0, 0.0, 1.0]\n",
      "Customers reached #: 27\n"
     ]
    }
   ],
   "source": [
    "import pandas as pd\n",
    "import pulp\n",
    "\n",
    "# Read data from Excel file\n",
    "app_cor_df = pd.read_excel('applecore.xlsx')\n",
    "\n",
    "# Budget\n",
    "budget_for_advert = 10 # (in thousands)\n",
    "\n",
    "web10_cost = app_cor_df.iloc[2, 1:].tolist()\n",
    "cust_vis_df = app_cor_df.iloc[6:, 1:].values.tolist()\n",
    "cust_vis_df = [[int(value) for value in row] for row in cust_vis_df]\n",
    "\n",
    "# Create a binary optimization problem\n",
    "prob_max_web = pulp.LpProblem(\"Max_CustRe\", pulp.LpMaximize)\n",
    "\n",
    "# Binary decision variables\n",
    "x = [pulp.LpVariable(f\"x{i}\", cat='Binary') for i in range(len(web10_cost))]\n",
    "\n",
    "# Objective function\n",
    "prob_max_web += pulp.lpSum([cust_vis_df[j][i] * x[i] for j in range(len(cust_vis_df)) for i in range(len(web10_cost))])\n",
    "\n",
    "# Budget constraint\n",
    "prob_max_web += pulp.lpSum([web10_cost[i] * x[i] for i in range(len(web10_cost))]) <= budget_for_advert\n",
    "\n",
    "# Solve the optimization problem\n",
    "prob_max_web.solve()\n",
    "\n",
    "# Checking if optimization solution is successful or not\n",
    "if pulp.LpStatus[prob_max_web.status] == \"Optimal\":\n",
    "    # Extract the optimal solution\n",
    "    web_sol = [x[i].value() for i in range(len(web10_cost))]\n",
    "    max_cust_reached = int(pulp.value(prob_max_web.objective))\n",
    "    print(\"Optimal solution:\")\n",
    "    print(\"Websites selected for advert (1 indicates selected):\", web_sol)\n",
    "    print(\"Customers reached #:\", max_cust_reached)\n",
    "else:\n",
    "    print(\"Unable to find optimal solution.\")"
   ]
  },
  {
   "cell_type": "code",
   "execution_count": 7,
   "id": "b42c33e7",
   "metadata": {},
   "outputs": [
    {
     "data": {
      "image/png": "[encoded data removed]",
      "text/plain": [
       "<Figure size 600x400 with 1 Axes>"
      ]
     },
     "metadata": {},
     "output_type": "display_data"
    }
   ],
   "source": [
    "#sentivity analysis\n",
    "import numpy as np\n",
    "import matplotlib.pyplot as plt\n",
    "\n",
    "# Initializing the lists to store budget and percentage reach ro sentisitivity analysis\n",
    "budget_sen_val = np.arange(5, 40, 5)\n",
    "percent_re = []\n",
    "\n",
    "for a in budget_sen_val:\n",
    "    # Creating a binary optimization problem\n",
    "    prob_max_web = pulp.LpProblem(\"Max_CustRe\", pulp.LpMaximize)\n",
    "\n",
    "    # adding binary decision variables\n",
    "    x = [pulp.LpVariable(f\"x{i}\", cat='Binary') for i in range(len(web10_cost))]\n",
    "\n",
    "    # Objective function: maximize\n",
    "    prob_max_web += pulp.lpSum([cust_vis_df[j][i] * x[i] for j in range(len(cust_vis_df)) for i in range(len(web10_cost))])\n",
    "\n",
    "    # constraint for budget\n",
    "    prob_max_web += pulp.lpSum([web10_cost[i] * x[i] for i in range(len(web10_cost))]) <= a\n",
    "\n",
    "    # Solving the optimization problem to maximize customer reach\n",
    "    prob_max_web.solve()\n",
    "\n",
    "    # Calculate percentage of customers reached\n",
    "    if pulp.LpStatus[prob_max_web.status] == \"Optimal\":\n",
    "        max_cust_reached = int(pulp.value(prob_max_web.objective))\n",
    "        a_percent_re = (max_cust_reached / len(cust_vis_df)) * 100\n",
    "        percent_re.append(a_percent_re)\n",
    "    else:\n",
    "        percent_re.append(0)\n",
    "\n",
    "# Plotting the line plot for checking the sensitivity analsysis\n",
    "plt.figure(figsize=(6, 4))\n",
    "plt.plot(budget_sen_val * 1000, percent_re, marker='s', linestyle='--',color='m')\n",
    "plt.title('Sensitivity Analysis: Customer % Reach vs. Budget')\n",
    "plt.xlabel('Budget in Dollars')\n",
    "plt.ylabel('Percentage Reach (%)')\n",
    "plt.grid(True)\n",
    "plt.show()\n"
   ]
  },
  {
   "cell_type": "code",
   "execution_count": null,
   "id": "6577a64f",
   "metadata": {},
   "outputs": [],
   "source": []
  }
 ],
 "metadata": {
  "kernelspec": {
   "display_name": "Python 3 (ipykernel)",
   "language": "python",
   "name": "python3"
  },
  "language_info": {
   "codemirror_mode": {
    "name": "ipython",
    "version": 3
   },
   "file_extension": ".py",
   "mimetype": "text/x-python",
   "name": "python",
   "nbconvert_exporter": "python",
   "pygments_lexer": "ipython3",
   "version": "3.9.13"
  }
 },
 "nbformat": 4,
 "nbformat_minor": 5
}
